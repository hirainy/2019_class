{
 "cells": [
  {
   "cell_type": "code",
   "execution_count": null,
   "metadata": {},
   "outputs": [],
   "source": [
    "#복습 1~100까지 출력"
   ]
  },
  {
   "cell_type": "code",
   "execution_count": null,
   "metadata": {},
   "outputs": [],
   "source": []
  },
  {
   "cell_type": "code",
   "execution_count": null,
   "metadata": {},
   "outputs": [],
   "source": [
    "#복습 1~100까지 수 중 3의 배수 출력"
   ]
  },
  {
   "cell_type": "code",
   "execution_count": null,
   "metadata": {},
   "outputs": [],
   "source": []
  },
  {
   "cell_type": "code",
   "execution_count": null,
   "metadata": {},
   "outputs": [],
   "source": [
    "#복습 1~100까지 합 출력, 반복문 이용!"
   ]
  },
  {
   "cell_type": "code",
   "execution_count": null,
   "metadata": {},
   "outputs": [],
   "source": []
  },
  {
   "cell_type": "code",
   "execution_count": null,
   "metadata": {},
   "outputs": [],
   "source": [
    "#중첩 반복문"
   ]
  },
  {
   "cell_type": "code",
   "execution_count": null,
   "metadata": {},
   "outputs": [],
   "source": [
    "for a in range(1,3) :      #출력 결과를 보고, 설명 추가\n",
    "    for b in range(2,5) :\n",
    "        print(a, b)"
   ]
  },
  {
   "cell_type": "code",
   "execution_count": null,
   "metadata": {},
   "outputs": [],
   "source": [
    "#도움 코드\n",
    "a = input().split() #10개의 수 입력받아(input()) 공백을 기준으로 분리하고(split())\n",
    "print(a)            #변수하나에 10개의 데이터를 대입해야하므로 a는 리스트형으로 저장됨\n",
    "b = map(int, a)     #map 함수를 이용하여 10개의 데이터들을 한꺼번에 정수형으로 변경\n",
    "print(b)            #<map object at 0x016C16F0>  \n",
    "for i in b :        #map 함수를 이용해 만들어진 데이터는 for문을 이용하여 출력가능!\n",
    "    print(i)"
   ]
  },
  {
   "cell_type": "code",
   "execution_count": null,
   "metadata": {},
   "outputs": [],
   "source": [
    "a = \"1 2 3 4 5 6 7 8 9 10\".split()\n",
    "print(a)\n",
    "b = map(int, a)\n",
    "print(b)\n",
    "b = list(b)       #설명 추가\n",
    "print(b) "
   ]
  },
  {
   "cell_type": "code",
   "execution_count": null,
   "metadata": {},
   "outputs": [],
   "source": [
    "#도움 코드를 참고하여,10개의 수를 입력받아 합 출력하는 프로그램 작성"
   ]
  },
  {
   "cell_type": "code",
   "execution_count": null,
   "metadata": {},
   "outputs": [],
   "source": []
  },
  {
   "cell_type": "code",
   "execution_count": null,
   "metadata": {},
   "outputs": [],
   "source": [
    "#10개의 수를 입력받고 그 중 홀수의 개수 출력"
   ]
  },
  {
   "cell_type": "code",
   "execution_count": null,
   "metadata": {},
   "outputs": [],
   "source": []
  },
  {
   "cell_type": "code",
   "execution_count": null,
   "metadata": {},
   "outputs": [],
   "source": [
    "a = [11, 20, 9, 10, 8]\n",
    "print(a[5])  #리스트 a의 다섯번 째 데이터 인덱싱, err 수정"
   ]
  },
  {
   "cell_type": "code",
   "execution_count": null,
   "metadata": {},
   "outputs": [],
   "source": [
    "a = [11, 20, 9, 10, 8]\n",
    "a.append(99)   #설명 쓰세요.\n",
    "print(a)"
   ]
  },
  {
   "cell_type": "code",
   "execution_count": null,
   "metadata": {},
   "outputs": [],
   "source": [
    "a = [11, 20, 9, 10, 8]\n",
    "a[0] = 100     #설명 쓰세요.\n",
    "print(a)\n",
    "a[5] = 100     #err 수정, 5번 인덱스에 100을 추가하려면?\n",
    "print(a)"
   ]
  },
  {
   "cell_type": "code",
   "execution_count": null,
   "metadata": {},
   "outputs": [],
   "source": [
    "a = [11, 20, 9, 10, 8]\n",
    "print(a[1:3])   #설명 쓰세요.\n",
    "print(a[1:])    #설명 쓰세요.\n",
    "print(a[:3])    #설명 쓰세요."
   ]
  },
  {
   "cell_type": "code",
   "execution_count": null,
   "metadata": {},
   "outputs": [],
   "source": [
    "a = [11, 20, 9, 10, 8]\n",
    "print(10 in a)      #in : 멤버십 연산자, 멤버인지 확인하여 True, False 출력\n",
    "print(10 not in a)\n",
    "if 100 in a :       #설명 쓰세요.\n",
    "    print(\"100은 리스트 a의 멤버이다.\")\n",
    "else :\n",
    "    print(\"100은 리스트 a의 멤버가 아니다.\")"
   ]
  },
  {
   "cell_type": "code",
   "execution_count": null,
   "metadata": {},
   "outputs": [],
   "source": [
    "a = {\"이름\" : \"고양이\", \"학교\" : \"한성과학고\", \"학년\" : 1, \"반\" : 1}    #딕셔너리, {키:값}\n",
    "print(a[\"이름\"])    \n",
    "#리스트와의 차이를 쓰세요."
   ]
  },
  {
   "cell_type": "code",
   "execution_count": null,
   "metadata": {},
   "outputs": [],
   "source": [
    "a = {\"이름\" : \"고양이\", \"학교\" : \"한성과학고\", \"학년\" : 1, \"반\" : 1}\n",
    "for i in a :\n",
    "    print(i)"
   ]
  },
  {
   "cell_type": "code",
   "execution_count": null,
   "metadata": {},
   "outputs": [],
   "source": [
    "a = {\"이름\" : \"고양이\", \"학교\" : \"한성과학고\", \"학년\" : 1, \"반\" : 1}\n",
    "for i in a :\n",
    "    print(?) #딕셔너리 a의 값들 출력되도록 ?를 작성"
   ]
  },
  {
   "cell_type": "code",
   "execution_count": null,
   "metadata": {},
   "outputs": [],
   "source": [
    "a = {\"we\":50, \"America\":4}\n",
    "a[\"woman\"] = 4     #설명 쓰세요.\n",
    "print(a)"
   ]
  },
  {
   "cell_type": "code",
   "execution_count": null,
   "metadata": {},
   "outputs": [],
   "source": [
    "a = {\"we\":50, \"America\":4}\n",
    "a[\"we\"] = 100      #설명 쓰세요.\n",
    "print(a)"
   ]
  },
  {
   "cell_type": "code",
   "execution_count": null,
   "metadata": {},
   "outputs": [],
   "source": [
    "a = {\"we\":50, \"America\":4}\n",
    "a[\"we\"] += 10     #설명 쓰세요.\n",
    "print(a)"
   ]
  },
  {
   "cell_type": "code",
   "execution_count": null,
   "metadata": {},
   "outputs": [],
   "source": [
    "file = open(\"obama.txt\")  #파이썬 코드와 obama.txt 파일은 동일한 폴더에, obama.txt 파일에 대한 정보를 변수 file에 저장\n",
    "data = file.read()        #파일을 읽어 변수 data에 저장\n",
    "file.close()              #파일 닫기"
   ]
  },
  {
   "cell_type": "code",
   "execution_count": null,
   "metadata": {},
   "outputs": [],
   "source": [
    "file = open(\"obama.txt\")\n",
    "data = file.read()\n",
    "#data 출력하기\n",
    "\n",
    "file.close()"
   ]
  },
  {
   "cell_type": "code",
   "execution_count": null,
   "metadata": {},
   "outputs": [],
   "source": [
    "file = open(\"obama.txt\")\n",
    "data = file.read()\n",
    "# data 의 자료형 출력하기\n",
    "\n",
    "file.close()"
   ]
  },
  {
   "cell_type": "code",
   "execution_count": null,
   "metadata": {},
   "outputs": [],
   "source": [
    "file = open(\"obama.txt\")\n",
    "data = file.read()\n",
    "#data 의 각 단어를 분리하여 리스트형에 저장\n",
    "data_list = ?\n",
    "print(len(data_list))    #설명 쓰세요\n",
    "print(data_list)\n",
    "file.close()"
   ]
  },
  {
   "cell_type": "code",
   "execution_count": null,
   "metadata": {},
   "outputs": [],
   "source": [
    "import csv               #csv 파일에 관한 함수들이 정의되어 있는 csv 모듈 불러오기\n",
    "f = open(\"gu_fire.csv\")  #파이썬 코드와 gu_fire.csv 파일은 동일한 폴더에, gu_fire.csv 파일에 대한 정보를 변수 f에 저장\n",
    "data = csv.reader(f)     #csv 모듈의 reader() 함수를 사용하여 파일 내용 읽어 변수 data에 저장\n",
    "print(type(data))\n",
    "print(data)\n",
    "f.close()"
   ]
  },
  {
   "cell_type": "code",
   "execution_count": null,
   "metadata": {},
   "outputs": [],
   "source": [
    "import csv\n",
    "f = open(\"gu_fire.csv\")\n",
    "data = csv.reader(f)\n",
    "for i in data :        #csv 모듈의 reader() 함수를 사용하여 읽어온 데이터는 for문을 이용하여 출력 가능\n",
    "    print(i)\n",
    "f.close()"
   ]
  },
  {
   "cell_type": "code",
   "execution_count": null,
   "metadata": {},
   "outputs": [],
   "source": [
    "#동이 있는 두번째 열(column)만 출력하기 \n",
    "import csv\n",
    "f = open(\"gu_fire.csv\")\n",
    "data = csv.reader(f)\n",
    "\n",
    "\n",
    "\n",
    "f.close()"
   ]
  },
  {
   "cell_type": "code",
   "execution_count": null,
   "metadata": {},
   "outputs": [],
   "source": [
    "#제목행을 제외하고 출력하기\n",
    "import csv\n",
    "f = open(\"gu_fire.csv\")\n",
    "data = csv.reader(f)\n",
    "data = list(data)  #csv 데이터를 list로 만들기\n",
    "\n",
    "\n",
    "\n",
    "f.close()"
   ]
  },
  {
   "cell_type": "code",
   "execution_count": null,
   "metadata": {},
   "outputs": [],
   "source": [
    "#구 이름을 리스트로 만드는 프로그램 작성  ['종로구', '중구', '용산구', ...]\n",
    "import csv\n",
    "f = open(\"gu_fire.csv\")\n",
    "data = csv.reader(f)\n",
    "data = list(data)    \n",
    "gu_name = []\n",
    "   \n",
    "\n",
    "f.close()"
   ]
  },
  {
   "cell_type": "code",
   "execution_count": null,
   "metadata": {},
   "outputs": [],
   "source": [
    "#구별 산불발생 수를 딕셔너리로 만드는 프로그램 작성 {'종로구': '260', '중구': '237', ...}\n",
    "import \n",
    "f = open(\"gu_fire.csv\")\n",
    "data = csv.reader(f)\n",
    "data = list(data)\n",
    "gu_fire = {}\n",
    "   \n",
    "\n",
    "f.close()"
   ]
  },
  {
   "cell_type": "code",
   "execution_count": null,
   "metadata": {},
   "outputs": [],
   "source": [
    "# obama.txt 각 단어의 출현빈도 \n",
    "file = open(\"obama.txt\")\n",
    "data = file.read()\n",
    "data_list = data.split()\n",
    "word_cnt = {}\n",
    "\n",
    "print(word_cnt)\n",
    "file.close()"
   ]
  }
 ],
 "metadata": {
  "kernelspec": {
   "display_name": "Python 3",
   "language": "python",
   "name": "python3"
  },
  "language_info": {
   "codemirror_mode": {
    "name": "ipython",
    "version": 3
   },
   "file_extension": ".py",
   "mimetype": "text/x-python",
   "name": "python",
   "nbconvert_exporter": "python",
   "pygments_lexer": "ipython3",
   "version": "3.7.1"
  }
 },
 "nbformat": 4,
 "nbformat_minor": 2
}
