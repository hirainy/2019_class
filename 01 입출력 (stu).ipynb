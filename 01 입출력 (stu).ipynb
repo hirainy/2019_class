{
 "cells": [
  {
   "cell_type": "code",
   "execution_count": 1,
   "metadata": {},
   "outputs": [
    {
     "name": "stdout",
     "output_type": "stream",
     "text": [
      "Hello, World!\n"
     ]
    }
   ],
   "source": [
    "print('Hello, World!')"
   ]
  },
  {
   "cell_type": "code",
   "execution_count": 2,
   "metadata": {},
   "outputs": [
    {
     "name": "stdout",
     "output_type": "stream",
     "text": [
      "Lift is too short,You need Python.\n",
      "Lift is too short,You need Python.\n",
      "Lift is too short, You need Python.\n"
     ]
    }
   ],
   "source": [
    "print('Lift is too short,' 'You need Python.')\n",
    "print('Lift is too short,' + 'You need Python.')\n",
    "print('Lift is too short,', 'You need Python.')"
   ]
  },
  {
   "cell_type": "code",
   "execution_count": 3,
   "metadata": {},
   "outputs": [
    {
     "name": "stdout",
     "output_type": "stream",
     "text": [
      "711\n",
      "9\n",
      "10\n"
     ]
    }
   ],
   "source": [
    "print(711)\n",
    "a = 9\n",
    "print(a)\n",
    "b = a+1\n",
    "print(b)"
   ]
  },
  {
   "cell_type": "code",
   "execution_count": 4,
   "metadata": {},
   "outputs": [
    {
     "name": "stdout",
     "output_type": "stream",
     "text": [
      "9\n",
      "10\n",
      "9 10\n"
     ]
    }
   ],
   "source": [
    "a = 9\n",
    "print(a)\n",
    "b = a+1\n",
    "print(b)\n",
    "print(a, b)"
   ]
  },
  {
   "cell_type": "code",
   "execution_count": 5,
   "metadata": {},
   "outputs": [
    {
     "name": "stdout",
     "output_type": "stream",
     "text": [
      "9 10\n",
      "9 10\n"
     ]
    }
   ],
   "source": [
    "a = 9\n",
    "print(a, end=' ')\n",
    "b = a+1\n",
    "print(b)\n",
    "print(a, b)"
   ]
  },
  {
   "cell_type": "code",
   "execution_count": 6,
   "metadata": {},
   "outputs": [
    {
     "name": "stdout",
     "output_type": "stream",
     "text": [
      "10 3.14159\n",
      "10, 3.14159\n",
      "10, 3.14159\n",
      "10\n",
      "3.14\n",
      "10의 제곱 100\n",
      "원주율 : 3.14159\n",
      "원주율 : 3.14\n",
      "10의 제곱 100 원주율 3.14\n"
     ]
    }
   ],
   "source": [
    "n = 10\n",
    "f = 3.14159\n",
    "print(n, f)\n",
    "print(n, end=', ')\n",
    "print(f)\n",
    "print(n, f, sep=', ')\n",
    "print('%d' %n)\n",
    "print('%.2f' %f)\n",
    "print('10의 제곱', n*n)\n",
    "print('원주율 :', f)\n",
    "print('원주율 : %.2f' %f)\n",
    "print('10의 제곱 %d 원주율 %.2f' %(n*n, f))"
   ]
  },
  {
   "cell_type": "code",
   "execution_count": 7,
   "metadata": {},
   "outputs": [
    {
     "name": "stdout",
     "output_type": "stream",
     "text": [
      "좋아하는 숫자 : 13\n",
      "13\n",
      "<class 'str'>\n"
     ]
    }
   ],
   "source": [
    "number = input('좋아하는 숫자 : ')\n",
    "print(number)\n",
    "print(type(number))"
   ]
  },
  {
   "cell_type": "code",
   "execution_count": 8,
   "metadata": {},
   "outputs": [
    {
     "name": "stdout",
     "output_type": "stream",
     "text": [
      "김학인\n",
      "이름 : 김학인\n"
     ]
    }
   ],
   "source": [
    "name = input()\n",
    "print(\"이름 :\",name)"
   ]
  },
  {
   "cell_type": "code",
   "execution_count": 9,
   "metadata": {},
   "outputs": [
    {
     "name": "stdout",
     "output_type": "stream",
     "text": [
      "1 2\n",
      "1 2\n"
     ]
    }
   ],
   "source": [
    "a, b = input().split()\n",
    "print(a, b)"
   ]
  },
  {
   "cell_type": "code",
   "execution_count": 10,
   "metadata": {},
   "outputs": [
    {
     "name": "stdout",
     "output_type": "stream",
     "text": [
      "행복 사랑 평화\n",
      "행복\n",
      "사랑\n",
      "평화\n"
     ]
    }
   ],
   "source": [
    "a, b, c = input().split()\n",
    "print(a)\n",
    "print(b)\n",
    "print(c)"
   ]
  },
  {
   "cell_type": "code",
   "execution_count": 11,
   "metadata": {},
   "outputs": [
    {
     "name": "stdout",
     "output_type": "stream",
     "text": [
      "좋아하는 숫자 : 13\n",
      "<class 'str'>\n"
     ]
    }
   ],
   "source": [
    "number = input('좋아하는 숫자 : ')\n",
    "print(type(number))"
   ]
  },
  {
   "cell_type": "code",
   "execution_count": null,
   "metadata": {},
   "outputs": [],
   "source": []
  }
 ],
 "metadata": {
  "kernelspec": {
   "display_name": "Python 3",
   "language": "python",
   "name": "python3"
  },
  "language_info": {
   "codemirror_mode": {
    "name": "ipython",
    "version": 3
   },
   "file_extension": ".py",
   "mimetype": "text/x-python",
   "name": "python",
   "nbconvert_exporter": "python",
   "pygments_lexer": "ipython3",
   "version": "3.7.1"
  }
 },
 "nbformat": 4,
 "nbformat_minor": 2
}
