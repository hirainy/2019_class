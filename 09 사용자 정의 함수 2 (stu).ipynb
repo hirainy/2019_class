{
 "cells": [
  {
   "cell_type": "code",
   "execution_count": null,
   "metadata": {},
   "outputs": [],
   "source": [
    "#1107 : 반복 출력하기 1 \n",
    "?\n",
    "\n",
    "for i in range(50) :\n",
    "    f()"
   ]
  },
  {
   "cell_type": "code",
   "execution_count": null,
   "metadata": {},
   "outputs": [],
   "source": [
    "#1258 : 1부터 n까지 합 구하기\n",
    "?\n",
    "\n",
    "a = int(input())\n",
    "print(f(a))"
   ]
  },
  {
   "cell_type": "code",
   "execution_count": null,
   "metadata": {},
   "outputs": [],
   "source": [
    "#1118 : 삼각형의 넓이 구하기\n",
    "?\n",
    "\n",
    "a, b = map(int, input().split())\n",
    "print(\"%.1f\" %area(a, b))"
   ]
  },
  {
   "cell_type": "code",
   "execution_count": null,
   "metadata": {},
   "outputs": [],
   "source": [
    "#1402 : 거꾸로 출력하기 3\n",
    "?\n",
    "\n",
    "n = int(input())\n",
    "a = list(map(int, input().split()))\n",
    "f(a)"
   ]
  },
  {
   "cell_type": "code",
   "execution_count": null,
   "metadata": {},
   "outputs": [],
   "source": [
    "#1271 : 최대값 구하기\n",
    "?\n",
    "\n",
    "n = int(input())\n",
    "a = list(map(int, input().split()))\n",
    "res = f(a)\n",
    "print(res)"
   ]
  },
  {
   "cell_type": "code",
   "execution_count": null,
   "metadata": {},
   "outputs": [],
   "source": [
    "#1273 : 약수 구하기\n",
    "?\n",
    "\n",
    "a = int(input())\n",
    "f(a)"
   ]
  },
  {
   "cell_type": "code",
   "execution_count": null,
   "metadata": {},
   "outputs": [],
   "source": [
    "#2623 : 최대공약수 구하기 \n",
    "?\n",
    "\n",
    "a, b = map(int, input().split())\n",
    "if a>b : a, b = b, a\n",
    "print(f(a, b))\n"
   ]
  },
  {
   "cell_type": "code",
   "execution_count": null,
   "metadata": {},
   "outputs": [],
   "source": [
    "#1990 : 3의 배수 판별하기\n",
    "?\n",
    "\n",
    "a = int(input())\n",
    "print(f(a))\n"
   ]
  },
  {
   "cell_type": "code",
   "execution_count": null,
   "metadata": {},
   "outputs": [],
   "source": [
    "#1092 : [기초-종합] 함께 문제 푸는 날(설명)\n",
    "?\n",
    "\n",
    "a, b, c = map(int, input().split())\n",
    "print(g(a, b, c))"
   ]
  },
  {
   "cell_type": "code",
   "execution_count": null,
   "metadata": {},
   "outputs": [],
   "source": [
    "#1274 : 소수 판별 \n",
    "?\n",
    "\n",
    "a = int(input())\n",
    "f(a)"
   ]
  }
 ],
 "metadata": {
  "kernelspec": {
   "display_name": "Python 3",
   "language": "python",
   "name": "python3"
  },
  "language_info": {
   "codemirror_mode": {
    "name": "ipython",
    "version": 3
   },
   "file_extension": ".py",
   "mimetype": "text/x-python",
   "name": "python",
   "nbconvert_exporter": "python",
   "pygments_lexer": "ipython3",
   "version": "3.6.7"
  }
 },
 "nbformat": 4,
 "nbformat_minor": 2
}
