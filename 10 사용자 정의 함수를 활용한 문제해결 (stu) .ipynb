{
 "cells": [
  {
   "cell_type": "code",
   "execution_count": null,
   "metadata": {},
   "outputs": [],
   "source": [
    "#1268 : n개의 수 중 짝수의 개수\n",
    "?\n",
    "\n",
    "\n",
    "n = int(input())\n",
    "a = list(map(int, input().split()))\n",
    "print(f(a))"
   ]
  },
  {
   "cell_type": "code",
   "execution_count": null,
   "metadata": {},
   "outputs": [],
   "source": [
    "#1278 : 자릿수 계산 str(), len() 함수 등을 사용하지 않고 작성\n",
    "?\n",
    "\n",
    "\n",
    "n = int(input())\n",
    "print(f(n))"
   ]
  },
  {
   "cell_type": "code",
   "execution_count": null,
   "metadata": {},
   "outputs": [],
   "source": [
    "#1273 : 약수 구하기 (복습)\n",
    "?\n",
    "\n",
    "\n",
    "a = int(input())\n",
    "f(a)"
   ]
  },
  {
   "cell_type": "code",
   "execution_count": null,
   "metadata": {},
   "outputs": [],
   "source": [
    "#2621 : 약수의 합\n",
    "?\n",
    "\n",
    "\n",
    "a = int(input())\n",
    "print(f(a))"
   ]
  },
  {
   "cell_type": "code",
   "execution_count": null,
   "metadata": {},
   "outputs": [],
   "source": [
    "#1274 : 소수 판별 (복습)\n",
    "? \n",
    "\n",
    "\n",
    "a = int(input())\n",
    "f(a)"
   ]
  },
  {
   "cell_type": "code",
   "execution_count": null,
   "metadata": {},
   "outputs": [],
   "source": [
    "# 2624 : n이하의 소수의 합 구하기\n",
    "# 함수 n이 소수일 경우 1을 리턴, 아닐경우 0을 리턴하는 함수 정의\n",
    "n = int(input())\n",
    "res = 0\n",
    "?\n",
    "\n",
    "\n",
    "\n",
    "\n"
   ]
  },
  {
   "cell_type": "code",
   "execution_count": null,
   "metadata": {},
   "outputs": [],
   "source": [
    "#4566 : 소수\n",
    "M = int(input())\n",
    "N = int(input())\n",
    "?\n",
    "\n",
    "\n",
    "\n",
    "\n",
    "\n"
   ]
  },
  {
   "cell_type": "code",
   "execution_count": null,
   "metadata": {},
   "outputs": [],
   "source": [
    "#1807 : 우박수 길이 (3n+1) (small) \n",
    "#1087-(1) ~ (3) 은 1087 문제를 해결하기 위한 도움닫기 과정입니다.\n",
    "#1087-(1) 함수 정의하지 않아도 됨.\n",
    "\n",
    "'''\n",
    "콜라츠의 추측, 3n+1 문제, 우박수 문제라고 불리는 이 문제는 다음과 같다.\n",
    "1, 어떤 자연수 n이 입력되면,\n",
    "2. n이 홀수이면 3n+1을 하고,\n",
    "3. n이 짝수이면 n/2를 한다.\n",
    "4. 이 n이 1이 될때까지 2~3과정을 반복한다.\n",
    "\n",
    "예를 들어 5는 5 → 16 → 8 → 4 → 2 → 1 이 된다.\n",
    "5 입력시 과정 출력 16 8 4 2 1 출력\n",
    "'''\n",
    "\n",
    "n = int(input())\n",
    "?\n",
    "\n",
    "\n",
    "\n"
   ]
  },
  {
   "cell_type": "code",
   "execution_count": null,
   "metadata": {},
   "outputs": [],
   "source": [
    "#1807 : 우박수 길이 (3n+1) (small) \n",
    "#1087-(2) 함수 정의하지 않아도 됨.\n",
    "'''\n",
    "예를 들어 5는 5 → 16 → 8 → 4 → 2 → 1 이 된다.\n",
    "5 입력시 길이 6 출력\n",
    "'''\n",
    "\n",
    "n = int(input())\n",
    "?\n",
    "\n",
    "\n",
    "\n"
   ]
  },
  {
   "cell_type": "code",
   "execution_count": null,
   "metadata": {},
   "outputs": [],
   "source": [
    "#1807 : 우박수 길이 (3n+1) (small) \n",
    "#1087-(3) 함수 정의하지 않아도 됨.\n",
    "# 5개의 입력 자연수 중 최댓값, 최댓값 위치, \n",
    "# 가장 큰 수가 두 개이상인 경우, 먼저나온 큰 수의 위치 출력하시오.\n",
    "'''\n",
    "입력 예시\n",
    "1\n",
    "5\n",
    "21\n",
    "21\n",
    "3\n",
    "출력 예시\n",
    "21\n",
    "3\n",
    "'''\n",
    "\n",
    "?\n",
    "\n",
    "\n",
    "\n"
   ]
  },
  {
   "cell_type": "code",
   "execution_count": null,
   "metadata": {},
   "outputs": [],
   "source": [
    "#1807 : 우박수 길이 (3n+1) (small) \n",
    "#이 문제는 함수 정의 선택!\n",
    "#입력된 수의 길이를 반환하는 함수 정의\n",
    "#함수 이름 dis, 매개변수 어떤 자연수 n, 반환값 우박수 길이\n",
    "\n",
    "a, b = map(int, input().split())\n",
    "m = 0    \n",
    "\n",
    "?\n",
    "\n",
    "\n",
    "\n"
   ]
  }
 ],
 "metadata": {
  "kernelspec": {
   "display_name": "Python 3",
   "language": "python",
   "name": "python3"
  },
  "language_info": {
   "codemirror_mode": {
    "name": "ipython",
    "version": 3
   },
   "file_extension": ".py",
   "mimetype": "text/x-python",
   "name": "python",
   "nbconvert_exporter": "python",
   "pygments_lexer": "ipython3",
   "version": "3.6.7"
  }
 },
 "nbformat": 4,
 "nbformat_minor": 2
}
