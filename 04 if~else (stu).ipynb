{
 "cells": [
  {
   "cell_type": "code",
   "execution_count": 1,
   "metadata": {},
   "outputs": [
    {
     "name": "stdout",
     "output_type": "stream",
     "text": [
      "2\n",
      "even\n"
     ]
    }
   ],
   "source": [
    "N = int(input())\n",
    "if N%2 == 0 :\n",
    "    print(\"even\")"
   ]
  },
  {
   "cell_type": "code",
   "execution_count": 2,
   "metadata": {},
   "outputs": [
    {
     "name": "stdout",
     "output_type": "stream",
     "text": [
      "3\n",
      "odd\n"
     ]
    }
   ],
   "source": [
    "N = int(input())\n",
    "if N%2 == 0 :\n",
    "    print(\"even\")\n",
    "else :\n",
    "    print(\"odd\")"
   ]
  },
  {
   "cell_type": "code",
   "execution_count": 3,
   "metadata": {},
   "outputs": [
    {
     "name": "stdout",
     "output_type": "stream",
     "text": [
      "-3\n",
      "negative\n"
     ]
    }
   ],
   "source": [
    "N = int(input())\n",
    "if N > 0 :\n",
    "    print(\"positive\")\n",
    "elif N == 0 :\n",
    "    print(\"zero\")\n",
    "else :\n",
    "    print(\"negative\")"
   ]
  },
  {
   "cell_type": "code",
   "execution_count": 4,
   "metadata": {},
   "outputs": [
    {
     "ename": "IndentationError",
     "evalue": "expected an indented block (<ipython-input-4-c68de7d61886>, line 3)",
     "output_type": "error",
     "traceback": [
      "\u001b[1;36m  File \u001b[1;32m\"<ipython-input-4-c68de7d61886>\"\u001b[1;36m, line \u001b[1;32m3\u001b[0m\n\u001b[1;33m    print(\"positive\")\u001b[0m\n\u001b[1;37m        ^\u001b[0m\n\u001b[1;31mIndentationError\u001b[0m\u001b[1;31m:\u001b[0m expected an indented block\n"
     ]
    }
   ],
   "source": [
    "a = int(input())\n",
    "if a > 0 :\n",
    "print(\"positive\")\n",
    "print(\"%d is positive number.\" %a)\n",
    "print(\"Indentation is very important in Python.\")"
   ]
  },
  {
   "cell_type": "code",
   "execution_count": 5,
   "metadata": {},
   "outputs": [
    {
     "name": "stdout",
     "output_type": "stream",
     "text": [
      "-3\n",
      "-3 is positive number.\n",
      "Indentation is very important in Python.\n"
     ]
    }
   ],
   "source": [
    "a = int(input())\n",
    "if a > 0 :\n",
    "    print(\"positive\")\n",
    "print(\"%d is positive number.\" %a)\n",
    "print(\"Indentation is very important in Python.\")"
   ]
  },
  {
   "cell_type": "code",
   "execution_count": 6,
   "metadata": {},
   "outputs": [
    {
     "name": "stdout",
     "output_type": "stream",
     "text": [
      "2\n",
      "2 Positive even number\n"
     ]
    }
   ],
   "source": [
    "a = int(input())\n",
    "if a > 0 :\n",
    "    if a%2 == 0 :  \n",
    "        print(a, \"Positive even number\")\n",
    "    else :  \n",
    "        print(a, \"Positive odd number\")\n",
    "elif a == 0 :   \n",
    "    print(a, \"Zero\")\n",
    "else :\n",
    "    if a%2 == 0 : print(a, \"Negative even number\")\n",
    "    else : print(a, \"Negative odd number\")"
   ]
  },
  {
   "cell_type": "code",
   "execution_count": null,
   "metadata": {},
   "outputs": [],
   "source": []
  }
 ],
 "metadata": {
  "kernelspec": {
   "display_name": "Python 3",
   "language": "python",
   "name": "python3"
  },
  "language_info": {
   "codemirror_mode": {
    "name": "ipython",
    "version": 3
   },
   "file_extension": ".py",
   "mimetype": "text/x-python",
   "name": "python",
   "nbconvert_exporter": "python",
   "pygments_lexer": "ipython3",
   "version": "3.7.1"
  }
 },
 "nbformat": 4,
 "nbformat_minor": 2
}
