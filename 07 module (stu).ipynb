{
 "cells": [
  {
   "cell_type": "code",
   "execution_count": null,
   "metadata": {},
   "outputs": [],
   "source": [
    "import math       #설명\n",
    "print(math.pi)    #설명\n",
    "print(math.factorial(5))      #설명"
   ]
  },
  {
   "cell_type": "code",
   "execution_count": null,
   "metadata": {},
   "outputs": [],
   "source": [
    "from math import pi, factorial        #설명\n",
    "print(pi)                             #설명\n",
    "print(factorial(5))                  \n",
    "pi = 10                               #설명\n",
    "#pi 출력 \n",
    "?"
   ]
  },
  {
   "cell_type": "code",
   "execution_count": null,
   "metadata": {},
   "outputs": [],
   "source": [
    "import random            #설명\n",
    "a = random.randint(1,6)  #설명\n",
    "print(a)"
   ]
  },
  {
   "cell_type": "code",
   "execution_count": null,
   "metadata": {},
   "outputs": [],
   "source": [
    "#위와 동일한 프로그램 작성, from ~ import ~ 방법 이용\n",
    "from ? import ?\n",
    "a = randint(1,6)\n",
    "print(a)"
   ]
  },
  {
   "cell_type": "code",
   "execution_count": null,
   "metadata": {},
   "outputs": [],
   "source": [
    "import random\n",
    "for i in range(5) :\n",
    "    a = random.randint(1,6)\n",
    "    print(a)"
   ]
  },
  {
   "cell_type": "code",
   "execution_count": null,
   "metadata": {},
   "outputs": [],
   "source": [
    "import random\n",
    "result = []\n",
    "for i in range(5):\n",
    "    result.append(?)\n",
    "print(result)   #출력예시 : [1, 3, 6, 1, 1]"
   ]
  },
  {
   "cell_type": "code",
   "execution_count": null,
   "metadata": {},
   "outputs": [],
   "source": [
    "import matplotlib.pyplot     #설명"
   ]
  },
  {
   "cell_type": "code",
   "execution_count": null,
   "metadata": {},
   "outputs": [],
   "source": [
    "import matplotlib.pyplot as plt     #설명"
   ]
  },
  {
   "cell_type": "code",
   "execution_count": null,
   "metadata": {},
   "outputs": [],
   "source": [
    "import matplotlib.pyplot as plt\n",
    "a = range(1, 11)         #설명\n",
    "b = []                   #설명\n",
    "for i in x :\n",
    "    b.append(i*i)        #설명\n",
    "plt.plot(a, b)   #좌표 (a, b)에 대한 값들을 서로 연결해서 라인 형태의 그래프를 그린다.\n",
    "plt.show()       #그래프를 출력한다."
   ]
  },
  {
   "cell_type": "code",
   "execution_count": null,
   "metadata": {},
   "outputs": [],
   "source": [
    "import matplotlib.pyplot as plt\n",
    "plt.plot([1, 12, 5, 7])       #설명\n",
    "plt.title('그래프')\n",
    "plt.rc('font', family='Malgun Gothic')\n",
    "plt.show()"
   ]
  },
  {
   "cell_type": "code",
   "execution_count": null,
   "metadata": {},
   "outputs": [],
   "source": [
    "import matplotlib.pyplot as plt\n",
    "a = range(1, 11)\n",
    "b = [1, 13, 10, 6, 20, 7, 35, 11, 53, 70]\n",
    "plt.bar(a, b)\n",
    "plt.show()"
   ]
  },
  {
   "cell_type": "code",
   "execution_count": null,
   "metadata": {},
   "outputs": [],
   "source": [
    "import matplotlib.pyplot as plt   #패키지 matplotlib의 모듈 pyplot을 불러와 별명 plt를 붙인다.\n",
    "a = range(1, 11)   #range() 함수를 사용해 1~10까지 정수 리스트를 만들고 변수 a에 저장한다.\n",
    "b = [1, 13, 10, 6, 20, 7, 35, 11, 53, 70]\n",
    "c = [1, 4, 9, 16, 25, 36, 49, 64, 81, 100]\n",
    "plt.plot(a, b, label=\"Graph 1\")   #좌표 (a, b)의 각 값을 연결하는 라인 그래프를 그린다. 범례 라벨을 “Graph 1”로 지정한다.\n",
    "plt.plot(a, c, label=\"Graph 2\")   #설명 ?\n",
    "plt.title(\"Graph\")   #그래프의 제목을 “Graph”로 지정한다.\n",
    "plt.rc('font', family='Malgun Gothic')\n",
    "plt.xlabel(\"x\")   #x축의 라벨을 “x”로 지정한다.\n",
    "plt.ylabel(\"y\")   #y축의 라벨을 “y”로 지정한다.\n",
    "plt.xticks(a,['가','나','다','라','마','바','사','아','자','차'])   #설명 ?\n",
    "plt.legend()   #범례를 표시한다.\n",
    "plt.grid()     #그리드를 표시한다.\n",
    "plt.axis([1, 10, 1, 100])    #x축은 1~10까지 표시하고, y축은 1~100까지 표시한다.\n",
    "plt.savefig(\"graph.png\")     #그래프를 “graph.png” 로 저장한다.\n",
    "plt.show()    #설명 ?"
   ]
  },
  {
   "cell_type": "code",
   "execution_count": null,
   "metadata": {},
   "outputs": [],
   "source": [
    "import matplotlib.pyplot as plt\n",
    "import random\n",
    "a = range(1, 11)\n",
    "b = [1, 13, 10, 6, 20, 70, 35, 11, 53, 7]\n",
    "colors = ['red', 'blue', 'yellow', 'green', 'purple']\n",
    "area = []\n",
    "col = []\n",
    "for i in a :\n",
    "    area.append(random.randint(1,1000))\n",
    "    col.append(colors[i%5])                     #설명\n",
    "plt.scatter(a, b, s=area, c=col, alpha=0.3)     #설명\n",
    "plt.show()"
   ]
  },
  {
   "cell_type": "code",
   "execution_count": null,
   "metadata": {},
   "outputs": [],
   "source": [
    "#위 모듈을 활용하여 그래프 만들기 (수학 관련 그래프, 공공데이터 시각화 등)\n",
    "?"
   ]
  }
 ],
 "metadata": {
  "kernelspec": {
   "display_name": "Python 3",
   "language": "python",
   "name": "python3"
  },
  "language_info": {
   "codemirror_mode": {
    "name": "ipython",
    "version": 3
   },
   "file_extension": ".py",
   "mimetype": "text/x-python",
   "name": "python",
   "nbconvert_exporter": "python",
   "pygments_lexer": "ipython3",
   "version": "3.6.4"
  }
 },
 "nbformat": 4,
 "nbformat_minor": 2
}
