{
 "cells": [
  {
   "cell_type": "markdown",
   "metadata": {},
   "source": [
    "함수 : 재사용 가능한 프로그램의 조각, \n",
    "특정 블록의 명령어들을 묶어 이름을 붙이고 그 이름을 프로그램 어디에서든 사용함으로써 \n",
    "그 블록에 포함된 명령어들을 몇 번이고 다시 실행"
   ]
  },
  {
   "cell_type": "markdown",
   "metadata": {},
   "source": [
    "# 사용자 정의 함수\n"
   ]
  },
  {
   "cell_type": "code",
   "execution_count": null,
   "metadata": {},
   "outputs": [],
   "source": [
    "#a, b 두 수의 합계를 구하는 함수\n",
    "?\n",
    "a, b = map(int,input().split())\n",
    "print(hap(a, b))"
   ]
  },
  {
   "cell_type": "code",
   "execution_count": null,
   "metadata": {},
   "outputs": [],
   "source": [
    "#1부터 n까지 합계를 구하는 함수\n",
    "?\n",
    "print(hap(int(input())))"
   ]
  },
  {
   "cell_type": "code",
   "execution_count": null,
   "metadata": {},
   "outputs": [],
   "source": [
    "#a, b 두 수 사이의 정수를 리스트로 만드는 함수\n",
    "?\n",
    "a, b = map(int, input().split())\n",
    "c = f(a, b)\n",
    "print(c)"
   ]
  },
  {
   "cell_type": "code",
   "execution_count": null,
   "metadata": {},
   "outputs": [],
   "source": [
    "#a, b 두 수 사이의 홀수를 리스트로 만드는 함수\n",
    "?\n",
    "a, b = map(int, input().split())\n",
    "c = f(a, b)\n",
    "print(c)"
   ]
  },
  {
   "cell_type": "code",
   "execution_count": null,
   "metadata": {},
   "outputs": [],
   "source": [
    "#문자열 길이 구하는 함수\n",
    "?\n",
    "a = input('문자열 입력 : ')\n",
    "res = length(a)\n",
    "print('문자열 길이 : ', res)"
   ]
  },
  {
   "cell_type": "code",
   "execution_count": null,
   "metadata": {},
   "outputs": [],
   "source": [
    "#리스트의 길이 구하는 함수\n",
    "?\n",
    "a = input('리스트 항목 입력 : ').split()\n",
    "res = length(a)\n",
    "print('리스트 길이 : ', res)"
   ]
  },
  {
   "cell_type": "code",
   "execution_count": null,
   "metadata": {},
   "outputs": [],
   "source": [
    "#리스트의 특정 항목의 갯수 구하는 함수\n",
    "?\n",
    "a = [9, 7, 10, 8, 5, 7, 7, 9, 3, 5]\n",
    "n = int(input())\n",
    "res = cnt(n, a)\n",
    "print(res)"
   ]
  },
  {
   "cell_type": "code",
   "execution_count": null,
   "metadata": {},
   "outputs": [],
   "source": [
    "# 리스트의 특정 항목의 위치 구하는 함수\n",
    "?\n",
    "a = [9, 7, 10, 8, 5, 7, 7, 9, 3, 5]\n",
    "n = int(input())\n",
    "res = idx(n, a)\n",
    "print(res)"
   ]
  },
  {
   "cell_type": "code",
   "execution_count": null,
   "metadata": {},
   "outputs": [],
   "source": [
    "#리스트를 거꾸로 출력하는 함수\n",
    "?\n",
    "a = input().split()\n",
    "rev(a)"
   ]
  },
  {
   "cell_type": "code",
   "execution_count": null,
   "metadata": {},
   "outputs": [],
   "source": [
    "#리스트의 항목 중 최댓값을 구하는 함수\n"
   ]
  },
  {
   "cell_type": "code",
   "execution_count": null,
   "metadata": {},
   "outputs": [],
   "source": [
    "#리스트의 항목 중 최솟값을 구하는 함수\n"
   ]
  }
 ],
 "metadata": {
  "kernelspec": {
   "display_name": "Python 3",
   "language": "python",
   "name": "python3"
  },
  "language_info": {
   "codemirror_mode": {
    "name": "ipython",
    "version": 3
   },
   "file_extension": ".py",
   "mimetype": "text/x-python",
   "name": "python",
   "nbconvert_exporter": "python",
   "pygments_lexer": "ipython3",
   "version": "3.6.4"
  }
 },
 "nbformat": 4,
 "nbformat_minor": 2
}
