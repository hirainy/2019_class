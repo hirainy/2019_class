{
 "cells": [
  {
   "cell_type": "markdown",
   "metadata": {},
   "source": [
    "# List \n",
    "한 개 이상의 데이터를 그룹화 하는데 사용되는 자료형"
   ]
  },
  {
   "cell_type": "markdown",
   "metadata": {},
   "source": [
    "https://docs.python.org/ko/3/tutorial/introduction.html#lists"
   ]
  },
  {
   "cell_type": "code",
   "execution_count": null,
   "metadata": {},
   "outputs": [],
   "source": [
    "a=[]       #비어있는 리스트 만드는 방법 1\n",
    "print(a) \n",
    "b=list()   #비어있는 리스트 만드는 방법 2\n",
    "print(b)"
   ]
  },
  {
   "cell_type": "markdown",
   "metadata": {},
   "source": [
    "# 리스트 인덱싱과 슬라이싱"
   ]
  },
  {
   "cell_type": "markdown",
   "metadata": {},
   "source": [
    "출력 결과에는 실행 전에 출력 결과를 예상하여 적어보고, 설명에는 해당 코드에 대한 설명을 넣으시오."
   ]
  },
  {
   "cell_type": "code",
   "execution_count": null,
   "metadata": {},
   "outputs": [],
   "source": [
    "a = [1, 2, 'a', 'b', [5, 9]]\n",
    "#print(a[1])        #출력 결과 : ?\n",
    "#print(a[0]+a[1])   #출력 결과 : ?\n",
    "#print(a[2])        #출력 결과 : ?\n",
    "#print(a[2]+a[3])   #출력 결과 : ?\n",
    "#print(a[4])        #출력 결과 : ?\n",
    "#print(a[-1])       #출력 결과 : ?"
   ]
  },
  {
   "cell_type": "code",
   "execution_count": null,
   "metadata": {},
   "outputs": [],
   "source": [
    "a = [1, 2, \"a\", \"b\", [5, 9]]\n",
    "print(a)\n",
    "#print(type(a))    #출력 결과 : ?\n",
    "?                  #a[2]의 자료형을 출력하시오.\n",
    "?                  #a[4]의 자료형을 출력하시오."
   ]
  },
  {
   "cell_type": "code",
   "execution_count": null,
   "metadata": {},
   "outputs": [],
   "source": [
    "a = [1, 2, 'a', 'b', [5, 9]]\n",
    "#print(a[1:4])    #출력 결과 : ?\n",
    "#print(a[:4])     #출력 결과 : ?\n",
    "#print(a[1:])     #출력 결과 : ?\n",
    "print(a[-4:-1])   #설명 : ?"
   ]
  },
  {
   "cell_type": "code",
   "execution_count": null,
   "metadata": {},
   "outputs": [],
   "source": [
    "a = [1, 2, 'a', 'b', [5, 9]]\n",
    "#print(type(a[1]))       #출력 결과 : ?\n",
    "#print(type(a[1:2]))     #출력 결과 : ?\n",
    "#print(type(a[-1]))      #출력 결과 : ?"
   ]
  },
  {
   "cell_type": "code",
   "execution_count": null,
   "metadata": {},
   "outputs": [],
   "source": [
    "a = ['list', 70, 3.14, [1, 2, 3]]\n",
    "print(?)    #리스트 a의 3번 인덱스의 값 [1, 2, 3]에서 3을 출력하시오. 출력 3"
   ]
  },
  {
   "cell_type": "code",
   "execution_count": null,
   "metadata": {},
   "outputs": [],
   "source": [
    "a = ['list', 70, 3.14, [1, 2, 3]]\n",
    "print(a[2], type(a[1]))\n",
    "print(a[1:2], type(a[1:2]))\n",
    "print(a[-1], type(a[-1]))"
   ]
  },
  {
   "cell_type": "code",
   "execution_count": null,
   "metadata": {},
   "outputs": [],
   "source": [
    "a = [1, 2, 'a', 'b', [5, 9]]\n",
    "print(a[4])\n",
    "print(a[4][0])\n",
    "print(a[4][1])"
   ]
  },
  {
   "cell_type": "markdown",
   "metadata": {},
   "source": [
    "# 리스트에 데이터 삽입/삭제/수정"
   ]
  },
  {
   "cell_type": "code",
   "execution_count": null,
   "metadata": {},
   "outputs": [],
   "source": [
    "a = []\n",
    "a.append(1)           #설명 : ?    \n",
    "print(a)\n",
    "b = [\"딸기\", \"귤\"]\n",
    "b.append(\"수박\")\n",
    "print(b)\n",
    "b.append([1, 2])\n",
    "#print(b)            #출력 결과 : ?"
   ]
  },
  {
   "cell_type": "code",
   "execution_count": null,
   "metadata": {},
   "outputs": [],
   "source": [
    "a = [\"딸기\", \"귤\", \"수박\"]\n",
    "a.insert(1, \"포도\")     #리스트 a의 인덱스1번 위치에 \"포도\" 추가   \n",
    "print(a)"
   ]
  },
  {
   "cell_type": "code",
   "execution_count": null,
   "metadata": {},
   "outputs": [],
   "source": [
    "a = [\"딸기\", \"귤\", \"수박\"]\n",
    "a.append([1, 2])\n",
    "#print(a)\n",
    "b = [\"딸기\", \"귤\", \"수박\"]\n",
    "b.extend([1, 2])\n",
    "#print(b)\n",
    "#append()와 extend()의 차이 설명 : ?"
   ]
  },
  {
   "cell_type": "code",
   "execution_count": null,
   "metadata": {},
   "outputs": [],
   "source": [
    "a =[]\n",
    "a.extend([1, 2])\n",
    "#print(a)     #출력 결과 : ?\n",
    "b = [\"딸기\", \"귤\"]\n",
    "b.extend([\"수박\", \"포도\"])\n",
    "#print(b)     #출력 결과 : ?"
   ]
  },
  {
   "cell_type": "code",
   "execution_count": null,
   "metadata": {},
   "outputs": [],
   "source": [
    "a = []\n",
    "a = a+[1, 2]\n",
    "#print(a)\n",
    "b = [\"딸기\", \"귤\"]\n",
    "b = b + [\"수박\", \"포도\"]\n",
    "#print(b)"
   ]
  },
  {
   "cell_type": "code",
   "execution_count": null,
   "metadata": {},
   "outputs": [],
   "source": [
    "a = []\n",
    "a = a+[1, 2]\n",
    "print(a)\n",
    "b = [\"딸기\", \"귤\"]\n",
    "c = a + b      #설명 : ?   \n",
    "#print(c)      #출력 결과 : ?"
   ]
  },
  {
   "cell_type": "code",
   "execution_count": null,
   "metadata": {},
   "outputs": [],
   "source": [
    "a = [1, 2, 3, 4, 5]\n",
    "a[1] = 20    #설명 : ?   \n",
    "#print(a)\n",
    "a[2:4] = [30, 40]\n",
    "print(a)"
   ]
  },
  {
   "cell_type": "code",
   "execution_count": null,
   "metadata": {},
   "outputs": [],
   "source": [
    "a = [1, 2, 3, 4, 5]\n",
    "del a[1]     #리스트 a의 인덱스 1번 항목을 삭제\n",
    "#print(a)\n",
    "a[1:3] = []   #리스트 a의 인덱스 1번~2번 항목 삭제, 연속된 범위의 항목 제거\n",
    "#print(a)\n",
    "b = a.pop()   # 리스트 a의 맨 뒤의 데이터를 삭제하고, 그 값을 변수 b에 대입\n",
    "#print(a)\n",
    "#print(b)"
   ]
  },
  {
   "cell_type": "code",
   "execution_count": null,
   "metadata": {},
   "outputs": [],
   "source": [
    "a = [1, 2, 3, 4, 5]\n",
    "b = a.pop()\n",
    "#print(a)     #출력 결과 : ?\n",
    "#print(b)     #출력 결과 : ?"
   ]
  },
  {
   "cell_type": "code",
   "execution_count": null,
   "metadata": {},
   "outputs": [],
   "source": [
    "a = [11, 12, 13, 14, 15]\n",
    "b = a.pop(2)    #리스트 a의 2번 인덱스의 데이터 삭제 후 반환\n",
    "#print(a)\n",
    "#print(b)"
   ]
  },
  {
   "cell_type": "code",
   "execution_count": null,
   "metadata": {},
   "outputs": [],
   "source": [
    "a = [11, 12, 13, 14, 15]\n",
    "a.remove(13)  \n",
    "print(a)\n",
    " ?               #15삭제\n",
    "print(a)         #출력  [11, 12, 14]"
   ]
  },
  {
   "cell_type": "code",
   "execution_count": null,
   "metadata": {},
   "outputs": [],
   "source": [
    "a = [1, 2, 'a', 'b', [5, 9]]\n",
    "a[1] = []\n",
    "#print(a)       #출력 결과 : ? "
   ]
  },
  {
   "cell_type": "code",
   "execution_count": null,
   "metadata": {},
   "outputs": [],
   "source": [
    "a = [1, 2, 'a', 'b', [5, 9]]\n",
    "#a[5] = 60       #설명 : ?"
   ]
  },
  {
   "cell_type": "markdown",
   "metadata": {},
   "source": [
    "# 리스트의 여러가지 함수"
   ]
  },
  {
   "cell_type": "code",
   "execution_count": null,
   "metadata": {},
   "outputs": [],
   "source": [
    "a = [1, 2, 'a', 'b', [5, 9]]\n",
    "#print(len(a))      #출력 결과 : ? "
   ]
  },
  {
   "cell_type": "code",
   "execution_count": null,
   "metadata": {},
   "outputs": [],
   "source": [
    "a = [9, 7, 10, 8, 5, 7, 7, 9, 3, 5]\n",
    "a.sort()\n",
    "print(a)"
   ]
  },
  {
   "cell_type": "code",
   "execution_count": null,
   "metadata": {},
   "outputs": [],
   "source": [
    "a = [9, 7, 10, 8, 5, 7, 7, 9, 3, 5]\n",
    "b = sorted(a)\n",
    "print(a)\n",
    "print(b)\n",
    "#sort()와 sorted()의 차이?"
   ]
  },
  {
   "cell_type": "code",
   "execution_count": null,
   "metadata": {},
   "outputs": [],
   "source": [
    "a = [9, 7, 10, 8, 5, 7, 7, 9, 3, 5]\n",
    "a.sort(reverse=True)\n",
    "#print(a)         #출력 결과 : ? "
   ]
  },
  {
   "cell_type": "code",
   "execution_count": null,
   "metadata": {},
   "outputs": [],
   "source": [
    "a = [9, 7, 10, 8, 5, 7, 7, 9, 3, 5]\n",
    "b = sorted(a, reverse=True)\n",
    "#print(a)          #출력 결과 : ? \n",
    "#print(b)          #출력 결과 : ? "
   ]
  },
  {
   "cell_type": "code",
   "execution_count": null,
   "metadata": {},
   "outputs": [],
   "source": [
    "a = [9, 7, 10, 8, 5, 7, 7, 9, 3, 5]\n",
    "a.reverse()\n",
    "print(a)        "
   ]
  },
  {
   "cell_type": "code",
   "execution_count": null,
   "metadata": {},
   "outputs": [],
   "source": [
    "a = [9, 7, 10, 8, 5, 7, 7, 9, 3, 5]\n",
    "b = a.count(7)\n",
    "#print(b)          #출력 결과 : ? "
   ]
  },
  {
   "cell_type": "code",
   "execution_count": null,
   "metadata": {},
   "outputs": [],
   "source": [
    "a = [9, 7, 10, 8, 5, 7, 7, 9, 3, 5]\n",
    "b = a.index(10)        #리스트 a에서 10의 위치를 반환하여 변수 b에 대입\n",
    "#print(b)"
   ]
  },
  {
   "cell_type": "code",
   "execution_count": null,
   "metadata": {},
   "outputs": [],
   "source": [
    "a = \"Hello World\"\n",
    "b = a.index(\"o\")\n",
    "#print(b)               #출력 결과 : ? "
   ]
  }
 ],
 "metadata": {
  "kernelspec": {
   "display_name": "Python 3",
   "language": "python",
   "name": "python3"
  },
  "language_info": {
   "codemirror_mode": {
    "name": "ipython",
    "version": 3
   },
   "file_extension": ".py",
   "mimetype": "text/x-python",
   "name": "python",
   "nbconvert_exporter": "python",
   "pygments_lexer": "ipython3",
   "version": "3.7.1"
  }
 },
 "nbformat": 4,
 "nbformat_minor": 2
}
